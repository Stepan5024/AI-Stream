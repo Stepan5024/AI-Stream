{
 "cells": [
  {
   "cell_type": "code",
   "execution_count": 1,
   "metadata": {},
   "outputs": [],
   "source": [
    "import sys\n",
    "\n",
    "sys.path.append(\"..\")"
   ]
  },
  {
   "cell_type": "code",
   "execution_count": null,
   "metadata": {},
   "outputs": [],
   "source": [
    "from ml_service.pipeline import ToxicityPipeline"
   ]
  },
  {
   "cell_type": "code",
   "execution_count": 3,
   "metadata": {},
   "outputs": [],
   "source": [
    "pipe = ToxicityPipeline.from_basic_models()"
   ]
  },
  {
   "cell_type": "code",
   "execution_count": 4,
   "metadata": {},
   "outputs": [
    {
     "data": {
      "text/plain": [
       "(<Decision.WARNING: 2>,\n",
       " {<ml_service.violations.BlackListViolation at 0x2b092a0c760>,\n",
       "  <ml_service.violations.AdKeywordViolation at 0x2b092a0e260>})"
      ]
     },
     "execution_count": 4,
     "metadata": {},
     "output_type": "execute_result"
    }
   ],
   "source": [
    "pipe.analyze_comment(\"Нда, ну и бред\")"
   ]
  },
  {
   "cell_type": "code",
   "execution_count": 5,
   "metadata": {},
   "outputs": [
    {
     "data": {
      "text/plain": [
       "(<Decision.BLOCK: 3>,\n",
       " {<ml_service.violations.ToxicityViolation at 0x2b08ef3cd60>,\n",
       "  <ml_service.violations.BlackListViolation at 0x2b0f7bdb9d0>,\n",
       "  <ml_service.violations.AdKeywordViolation at 0x2b092a0eb60>})"
      ]
     },
     "execution_count": 5,
     "metadata": {},
     "output_type": "execute_result"
    }
   ],
   "source": [
    "pipe.analyze_comment(\"ну и бред, ты совсем дурак?\")"
   ]
  },
  {
   "cell_type": "code",
   "execution_count": 6,
   "metadata": {},
   "outputs": [
    {
     "data": {
      "text/plain": [
       "(<Decision.WARNING: 2>,\n",
       " {<ml_service.violations.BlackListViolation at 0x2b0f7bdbac0>,\n",
       "  <ml_service.violations.AdKeywordViolation at 0x2b092a0ea10>})"
      ]
     },
     "execution_count": 6,
     "metadata": {},
     "output_type": "execute_result"
    }
   ],
   "source": [
    "pipe.analyze_comment(\"это кринж чел'\")"
   ]
  },
  {
   "cell_type": "code",
   "execution_count": 7,
   "metadata": {},
   "outputs": [
    {
     "data": {
      "text/plain": [
       "(<Decision.BLOCK: 3>,\n",
       " {<ml_service.violations.ToxicityViolation at 0x2b0f7bdbd00>,\n",
       "  <ml_service.violations.BlackListViolation at 0x2b0f7bdb880>,\n",
       "  <ml_service.violations.AdKeywordViolation at 0x2b092973760>,\n",
       "  <ml_service.violations.ThreatViolation at 0x2b092a0eaa0>})"
      ]
     },
     "execution_count": 7,
     "metadata": {},
     "output_type": "execute_result"
    }
   ],
   "source": [
    "pipe.analyze_comment(\"убить бы тебя\")"
   ]
  }
 ],
 "metadata": {
  "kernelspec": {
   "display_name": ".venv",
   "language": "python",
   "name": "python3"
  },
  "language_info": {
   "codemirror_mode": {
    "name": "ipython",
    "version": 3
   },
   "file_extension": ".py",
   "mimetype": "text/x-python",
   "name": "python",
   "nbconvert_exporter": "python",
   "pygments_lexer": "ipython3",
   "version": "3.10.11"
  }
 },
 "nbformat": 4,
 "nbformat_minor": 2
}
